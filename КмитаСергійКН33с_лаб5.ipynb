{
 "cells": [
  {
   "cell_type": "markdown",
   "id": "7221f7b3-4e83-4314-a6a8-32157c5970d0",
   "metadata": {},
   "source": [
    "<!DOCTYPE html>\n",
    "<html lang=\"en\">\n",
    "<head>\n",
    "<meta charset=\"UTF-8\">\n",
    "<meta name=\"viewport\" content=\"width=device-width, initial-scale=1.0\">\n",
    "<title>Інформація про Ісландію</title>\n",
    "</head>\n",
    "<body>\n",
    "\n",
    "<h1>Ісландія</h1>\n",
    "\n",
    "<h2>Площа:</h2>\n",
    "<p>Площа країни Ісландія складає приблизно 103,000 км².</p>\n",
    "\n",
    "<h2>Населення:</h2>\n",
    "<p>За даними на останній перепис населення, Ісландія має приблизно 360 тисяч жителів.</p>\n",
    "\n",
    "<h2>Державний устрій:</h2>\n",
    "<p>Ісландія є парламентською республікою з демократичним устроєм.</p>\n",
    "\n",
    "<h2>Видатні персоналії:</h2>\n",
    "<ul>\n",
    "  <li>Лейфур Ейріксон — вікінг, відомий як дослідник, який відкрив Америку (Вінландію).</li>\n",
    "  <li>Бьорк — світово відома ісландська співачка і композиторка, лауреатка премії Grammy.</li>\n",
    "</ul>\n",
    "\n",
    "<h2>Пам'ятки культури та природи:</h2>\n",
    "<ul>\n",
    "  <li>Гейзери — природні джерела теплої води, які стали символом Ісландії.</li>\n",
    "  <li>Водоспад Сельяляндсфосс — один з найкрасивіших водоспадів у країні.</li>\n",
    "</ul>\n",
    "\n",
    "<h2>Флаг Ісландії:</h2>\n",
    "<img src=\"https://uk.wikipedia.org/wiki/%D0%9F%D1%80%D0%B0%D0%BF%D0%BE%D1%80_%D0%86%D1%81%D0%BB%D0%B0%D0%BD%D0%B4%D1%96%D1%97#/media/%D0%A4%D0%B0%D0%B9%D0%BB:Flag_of_Iceland.svg.png\" alt=\"Флаг Ісландії\" width=\"300\" height=\"200\">\n",
    "\n",
    "</body>\n",
    "</html>\n"
   ]
  },
  {
   "cell_type": "code",
   "execution_count": 2,
   "id": "d7d8f85a-5a8f-4346-a53f-5db7a903cb3b",
   "metadata": {
    "tags": []
   },
   "outputs": [
    {
     "name": "stdin",
     "output_type": "stream",
     "text": [
      "Введіть число:  12.1\n"
     ]
    },
    {
     "name": "stdout",
     "output_type": "stream",
     "text": [
      "12.1 у двійковій системі буде 1100.0001100110011001100110011001100110011001100110011\n"
     ]
    }
   ],
   "source": [
    "def decimal_to_binary(number):\n",
    "    # Якщо число менше 0, встановлюємо знак \"-\" і переводимо в додатковий код\n",
    "    if number < 0:\n",
    "        sign = '-'\n",
    "        number = abs(number)\n",
    "    else:\n",
    "        sign = ''\n",
    "\n",
    "    # Розділяємо цілу та дробову частини\n",
    "    integer_part = int(number)\n",
    "    fractional_part = number - integer_part if number != integer_part else 0\n",
    "\n",
    "    # Переводимо цілу частину у двійкову систему\n",
    "    binary_integer = bin(integer_part)[2:]\n",
    "\n",
    "    # Переводимо дробову частину у двійкову систему\n",
    "    binary_fractional = ''\n",
    "    while fractional_part != 0:\n",
    "        fractional_part *= 2\n",
    "        bit = int(fractional_part)\n",
    "        binary_fractional += str(bit)\n",
    "        fractional_part -= bit\n",
    "\n",
    "    # Формуємо рядок результату\n",
    "    result = f\"{sign}{binary_integer}\"\n",
    "    if binary_fractional:\n",
    "        result += f\".{binary_fractional}\"\n",
    "\n",
    "    return result\n",
    "\n",
    "\n",
    "def task_7():\n",
    "    number = float(input(\"Введіть число: \"))\n",
    "    binary_representation = decimal_to_binary(number)\n",
    "    print(f\"{number} у двійковій системі буде {binary_representation}\")\n",
    "\n",
    "\n",
    "# Перевірка роботи функції\n",
    "task_7()\n"
   ]
  },
  {
   "cell_type": "code",
   "execution_count": null,
   "id": "a9415dda-f061-4790-b635-dc98d191397f",
   "metadata": {},
   "outputs": [],
   "source": []
  }
 ],
 "metadata": {
  "kernelspec": {
   "display_name": "Python 3 (ipykernel)",
   "language": "python",
   "name": "python3"
  },
  "language_info": {
   "codemirror_mode": {
    "name": "ipython",
    "version": 3
   },
   "file_extension": ".py",
   "mimetype": "text/x-python",
   "name": "python",
   "nbconvert_exporter": "python",
   "pygments_lexer": "ipython3",
   "version": "3.7.1"
  }
 },
 "nbformat": 4,
 "nbformat_minor": 5
}
